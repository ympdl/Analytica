{
  "nbformat": 4,
  "nbformat_minor": 0,
  "metadata": {
    "colab": {
      "provenance": [],
      "authorship_tag": "ABX9TyOuebubsQrDLsKRXGpuayz2",
      "include_colab_link": true
    },
    "kernelspec": {
      "name": "python3",
      "display_name": "Python 3"
    },
    "language_info": {
      "name": "python"
    }
  },
  "cells": [
    {
      "cell_type": "markdown",
      "metadata": {
        "id": "view-in-github",
        "colab_type": "text"
      },
      "source": [
        "<a href=\"https://colab.research.google.com/github/ympdl/Analytica/blob/main/Analytica_Programa%C3%A7%C3%A3o.ipynb\" target=\"_parent\"><img src=\"https://colab.research.google.com/assets/colab-badge.svg\" alt=\"Open In Colab\"/></a>"
      ]
    },
    {
      "cell_type": "markdown",
      "source": [
        "# 1.1 Entrada e Saída"
      ],
      "metadata": {
        "id": "eIj1IxPHpZQs"
      }
    },
    {
      "cell_type": "code",
      "execution_count": null,
      "metadata": {
        "id": "N3wEV3y4pRpr",
        "colab": {
          "base_uri": "https://localhost:8080/"
        },
        "outputId": "f6a838a2-4af0-43a5-8d6e-177b7c1eae49"
      },
      "outputs": [
        {
          "output_type": "stream",
          "name": "stdout",
          "text": [
            "Insira o primeiro numero: 4\n",
            "Insira o segundo numero: 5\n",
            "A media de 4.0 e 5.0 eh 4.5\n"
          ]
        }
      ],
      "source": [
        "x =  float(input(\"Insira o primeiro numero: \"))\n",
        "y =  float(input(\"Insira o segundo numero: \"))\n",
        "\n",
        "media = (x + y) / 2\n",
        "\n",
        "print(f\"A media de {x} e {y} eh {media}\")"
      ]
    },
    {
      "cell_type": "markdown",
      "source": [
        "# 1.2 Estruturas de controle"
      ],
      "metadata": {
        "id": "bx4-0qxwu9hL"
      }
    },
    {
      "cell_type": "code",
      "source": [
        "# Primeira questão\n",
        "\n",
        "frase = input(\"Qual sua equipe favorita? \")\n",
        "\n",
        "if(frase == \"UFRJ ANALYTICA\" or frase == \"ufrj analytica\"):\n",
        "    print(\"Minha equipe favorita eh a UFRJ ANALYTICA\")\n",
        "else:\n",
        "    print(\"Frase inesperada\")"
      ],
      "metadata": {
        "colab": {
          "base_uri": "https://localhost:8080/"
        },
        "id": "KXIbYxJivCdL",
        "outputId": "4f44bfc3-6273-4c2a-acaf-c123156c2f06"
      },
      "execution_count": null,
      "outputs": [
        {
          "output_type": "stream",
          "name": "stdout",
          "text": [
            "Qual sua equipe favorita? flamengo\n",
            "Frase inesperada\n"
          ]
        }
      ]
    },
    {
      "cell_type": "code",
      "source": [
        "# Segunda questão\n",
        "\n",
        "x = input(\"Insira o primeiro numero: \")\n",
        "y = input(\"Insira o segundo numero: \")\n",
        "\n",
        "if(x > y):\n",
        "    print(f\"{x} eh maior\")\n",
        "elif(x < y):\n",
        "    print(f\"{y} eh maior\")\n",
        "else:\n",
        "    print(\"Os numeros sao iguais\")"
      ],
      "metadata": {
        "colab": {
          "base_uri": "https://localhost:8080/"
        },
        "id": "37EGV07D5Ofu",
        "outputId": "1e732225-6a34-4167-d682-2cc4235fd135"
      },
      "execution_count": null,
      "outputs": [
        {
          "output_type": "stream",
          "name": "stdout",
          "text": [
            "Insira o primeiro numero: 5\n",
            "Insira o segundo numero: 4\n",
            "5 eh maior\n"
          ]
        }
      ]
    },
    {
      "cell_type": "markdown",
      "source": [
        "# 1.3 Estruturas de repetição"
      ],
      "metadata": {
        "id": "NNAKcrDE7N0E"
      }
    },
    {
      "cell_type": "code",
      "source": [
        "# Primeira questão\n",
        "\n",
        "x = int(input(\"Insira um numero: \"))\n",
        "\n",
        "for i in range(0, x):\n",
        "    print(i+1)"
      ],
      "metadata": {
        "colab": {
          "base_uri": "https://localhost:8080/"
        },
        "id": "NlYpvxwy7WIQ",
        "outputId": "02920a7a-9cb7-452f-b78f-3a84920ab945"
      },
      "execution_count": null,
      "outputs": [
        {
          "output_type": "stream",
          "name": "stdout",
          "text": [
            "Insira um numero: 10\n",
            "1\n",
            "2\n",
            "3\n",
            "4\n",
            "5\n",
            "6\n",
            "7\n",
            "8\n",
            "9\n",
            "10\n"
          ]
        }
      ]
    },
    {
      "cell_type": "code",
      "source": [
        "# Segunda questão\n",
        "\n",
        "quantidade_m = int(input(\"Insira a quantidade de membros da equipe: \"))\n",
        "\n",
        "for i in range(0, quantidade_m):\n",
        "    nome = input(f\"Insira o nome do {i+1} membro: \")\n",
        "    print(f\"Ola, {nome}, seja bem-vindo!\")"
      ],
      "metadata": {
        "colab": {
          "base_uri": "https://localhost:8080/"
        },
        "id": "4qvNPI4s-CHe",
        "outputId": "8b6bffca-f977-4f0b-d78f-0927e3cfe852"
      },
      "execution_count": null,
      "outputs": [
        {
          "output_type": "stream",
          "name": "stdout",
          "text": [
            "Insira a quantidade de membros da equipe: 3\n",
            "Insira o nome do 1 membro: marcos\n",
            "Ola, marcos, seja bem-vindo!\n",
            "Insira o nome do 2 membro: larissa\n",
            "Ola, larissa, seja bem-vindo!\n",
            "Insira o nome do 3 membro: manu\n",
            "Ola, manu, seja bem-vindo!\n"
          ]
        }
      ]
    },
    {
      "cell_type": "code",
      "source": [
        "# Terceira questão\n",
        "\n",
        "while True:\n",
        "    x = int(input(\"Insira um numero entre 0 e 9: \"))\n",
        "    if(x < 0 or x > 9): # caso não esteja dentro do intervalo\n",
        "        print(\"Numero invalido, insira novamente os dois numeros\")\n",
        "\n",
        "    y = int(input(\"Insira outro numero entre 0 e 9: \"))\n",
        "    if(y < 0 or y > 9): # caso não esteja dentro do intervalo\n",
        "        print(\"Numero invalido, insira novamente os dois numeros\")\n",
        "\n",
        "    if(x >= 0 and x <= 9 and y >= 0 and y <= 9): # caso esteja dentro do intervalo\n",
        "        print(f\"{x} + {y} = {x+y}\")\n",
        "        break"
      ],
      "metadata": {
        "id": "d6jsnsl7A9RZ",
        "colab": {
          "base_uri": "https://localhost:8080/"
        },
        "outputId": "1d0c9ce9-5bcd-430b-841f-b038be87dd65"
      },
      "execution_count": null,
      "outputs": [
        {
          "output_type": "stream",
          "name": "stdout",
          "text": [
            "Insira um numero entre 0 e 9: 11\n",
            "Numero invalido, insira novamente os dois numeros\n",
            "Insira outro numero entre 0 e 9: 19\n",
            "Numero invalido, insira novamente os dois numeros\n",
            "Insira um numero entre 0 e 9: 3\n",
            "Insira outro numero entre 0 e 9: 11\n",
            "Numero invalido, insira novamente os dois numeros\n",
            "Insira um numero entre 0 e 9: 3\n",
            "Insira outro numero entre 0 e 9: 4\n",
            "3 + 4 = 7\n"
          ]
        }
      ]
    },
    {
      "cell_type": "markdown",
      "source": [
        "# 1.4 Estrutura de dados"
      ],
      "metadata": {
        "id": "0X_wFE81Q-zu"
      }
    },
    {
      "cell_type": "code",
      "source": [
        "# Primeira questão\n",
        "\n",
        "competidores = ['João', 'Carlos', 'Patricia', 'Caio', 'Leticia'] # lista\n",
        "\n",
        "nome = input(\"Insira um nome: \")\n",
        "\n",
        "if(nome in competidores): # verificando se o elemento está na lista\n",
        "    print(f\"O competidor {nome} esta na lista\")\n",
        "else:\n",
        "    print(f\"O competidor {nome} nao esta na lista\")"
      ],
      "metadata": {
        "id": "4r6RidO3N20y",
        "colab": {
          "base_uri": "https://localhost:8080/"
        },
        "outputId": "1b2109e8-0e94-4f65-fede-6016c92039d1"
      },
      "execution_count": null,
      "outputs": [
        {
          "output_type": "stream",
          "name": "stdout",
          "text": [
            "Insira um nome: Carlos\n",
            "O competidor Carlos esta na lista\n"
          ]
        }
      ]
    },
    {
      "cell_type": "code",
      "source": [
        "# Segunda questão\n",
        "\n",
        "dicionario_comp = { # criando dicionario\n",
        "    \"João\": \"Competicao\",\n",
        "    \"Carlos\": \"Desenvolvimento\",\n",
        "    \"Patricia\": \"Competicao\",\n",
        "    \"Caio\": \"Competicao\",\n",
        "    \"Leticia\": \"Gestao\"\n",
        "}\n",
        "\n",
        "nome = input(\"Insira um nome: \")\n",
        "\n",
        "if(nome in dicionario_comp): # verificando se o nome está no dicionario\n",
        "    print(f\"O competidor {nome} tem o cargo {dicionario_comp[nome]}\")\n",
        "else:\n",
        "    print(f\"O competidor {nome} nao esta na lista\")"
      ],
      "metadata": {
        "colab": {
          "base_uri": "https://localhost:8080/"
        },
        "id": "IBrtSanqSP3f",
        "outputId": "0f4f86e7-4af4-4092-c104-eec104f273f8"
      },
      "execution_count": null,
      "outputs": [
        {
          "output_type": "stream",
          "name": "stdout",
          "text": [
            "Insira um nome: Caio\n",
            "O competidor Caio tem o cargo Competicao\n"
          ]
        }
      ]
    },
    {
      "cell_type": "markdown",
      "source": [
        "# 1.5 Funções e modularização/reaproveitamento de código"
      ],
      "metadata": {
        "id": "hwlk3s-zXQg8"
      }
    },
    {
      "cell_type": "code",
      "source": [
        "# Primeira questão\n",
        "\n",
        "def printar_num(quantidade):\n",
        "    for i in range(0, quantidade):\n",
        "        print(quantidade, end = ' ')\n",
        "\n",
        "numero = int(input(\"Insira um numero: \"))\n",
        "printar_num(numero)"
      ],
      "metadata": {
        "colab": {
          "base_uri": "https://localhost:8080/"
        },
        "id": "uBKW2dY-XOtm",
        "outputId": "5e8e2866-2559-4eb2-cb77-795a191dfd2b"
      },
      "execution_count": null,
      "outputs": [
        {
          "output_type": "stream",
          "name": "stdout",
          "text": [
            "Insira um numero: 5\n",
            "5 5 5 5 5 "
          ]
        }
      ]
    },
    {
      "cell_type": "code",
      "source": [
        "# Segunda questão\n",
        "\n",
        "n = int(input(\"Insira o numero limite: \"))\n",
        "\n",
        "for i in range(1, n+1):\n",
        "    printar_num(i)\n",
        "    print()"
      ],
      "metadata": {
        "colab": {
          "base_uri": "https://localhost:8080/"
        },
        "id": "mAKLoH39Y4VG",
        "outputId": "dcfe4598-0e85-4e59-becb-fa1907c1f24f"
      },
      "execution_count": null,
      "outputs": [
        {
          "output_type": "stream",
          "name": "stdout",
          "text": [
            "Insira o numero limite: 5\n",
            "1 \n",
            "2 2 \n",
            "3 3 3 \n",
            "4 4 4 4 \n",
            "5 5 5 5 5 \n"
          ]
        }
      ]
    }
  ]
}